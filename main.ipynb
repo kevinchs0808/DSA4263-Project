{
  "cells": [
    {
      "cell_type": "markdown",
      "metadata": {
        "id": "PAzHZLlCEUdE"
      },
      "source": [
        "## Install Libraries"
      ]
    },
    {
      "cell_type": "code",
      "execution_count": null,
      "metadata": {
        "colab": {
          "base_uri": "https://localhost:8080/"
        },
        "id": "MAXLLbFCEWgc",
        "outputId": "8ba6d1c4-722f-4a3b-a19c-b62776665d2c"
      },
      "outputs": [],
      "source": [
        "# !pip3 install -r requirements.txt"
      ]
    },
    {
      "cell_type": "code",
      "execution_count": 1,
      "metadata": {},
      "outputs": [],
      "source": [
        "# Generate requirements_current.txt\n",
        "# ! pip list --format=freeze > requirements_current.txt"
      ]
    },
    {
      "cell_type": "markdown",
      "metadata": {
        "id": "LfW4T8RQB77H"
      },
      "source": [
        "# Import Libraries"
      ]
    },
    {
      "cell_type": "code",
      "execution_count": 1,
      "metadata": {},
      "outputs": [],
      "source": [
        "import importlib"
      ]
    },
    {
      "cell_type": "code",
      "execution_count": 2,
      "metadata": {
        "id": "T80iZ2CNBtD0"
      },
      "outputs": [],
      "source": [
        "import pandas as pd"
      ]
    },
    {
      "cell_type": "code",
      "execution_count": 3,
      "metadata": {},
      "outputs": [
        {
          "name": "stderr",
          "output_type": "stream",
          "text": [
            "/Users/craig/opt/anaconda3/envs/DSA-modelling/lib/python3.9/site-packages/tqdm/auto.py:21: TqdmWarning: IProgress not found. Please update jupyter and ipywidgets. See https://ipywidgets.readthedocs.io/en/stable/user_install.html\n",
            "  from .autonotebook import tqdm as notebook_tqdm\n"
          ]
        }
      ],
      "source": [
        "import models\n",
        "import parameters\n",
        "import preprocessing"
      ]
    },
    {
      "cell_type": "code",
      "execution_count": 4,
      "metadata": {},
      "outputs": [
        {
          "data": {
            "text/plain": [
              "<module 'preprocessing' from '/Users/craig/Documents/GitHub/DSA4263-Project/preprocessing.py'>"
            ]
          },
          "execution_count": 4,
          "metadata": {},
          "output_type": "execute_result"
        }
      ],
      "source": [
        "importlib.reload(models)\n",
        "importlib.reload(parameters)\n",
        "importlib.reload(preprocessing)"
      ]
    },
    {
      "cell_type": "markdown",
      "metadata": {
        "id": "OZg70QJhB-8h"
      },
      "source": [
        "# Import Dataset"
      ]
    },
    {
      "cell_type": "code",
      "execution_count": 5,
      "metadata": {
        "id": "sdzDT6aICBSh"
      },
      "outputs": [],
      "source": [
        "df = pd.read_csv(\"Data/Raw/insurance_claims.csv\")"
      ]
    },
    {
      "cell_type": "markdown",
      "metadata": {
        "id": "kQ-FzF44CPh7"
      },
      "source": [
        "# EDA Insight"
      ]
    },
    {
      "cell_type": "code",
      "execution_count": null,
      "metadata": {
        "id": "RXAsAH_jCRKh"
      },
      "outputs": [],
      "source": []
    },
    {
      "cell_type": "markdown",
      "metadata": {},
      "source": [
        "# Random Forest New"
      ]
    },
    {
      "cell_type": "code",
      "execution_count": 6,
      "metadata": {},
      "outputs": [],
      "source": [
        "import json\n",
        "from sklearn.ensemble import RandomForestClassifier\n",
        "\n",
        "# NOT ACTUAL PARAMS\n",
        "tuned_params = {\n",
        "    \"n_estimators\": 100,\n",
        "    \"max_depth\": 10,\n",
        "    \"min_samples_split\": 2,\n",
        "    \"min_samples_leaf\": 1,\n",
        "    \"max_features\": \"auto\",\n",
        "    \"bootstrap\": True\n",
        "}"
      ]
    },
    {
      "cell_type": "code",
      "execution_count": 7,
      "metadata": {},
      "outputs": [],
      "source": [
        "rf_model = models.IndividualModel(\n",
        "    model_func = RandomForestClassifier,\n",
        "    param_info = parameters.RANDOM_FOREST_INFORMATION,\n",
        "    X_train = X_train,\n",
        "    X_test = X_test,\n",
        "    y_train = y_train,\n",
        "    y_test = y_test\n",
        "    )"
      ]
    },
    {
      "cell_type": "markdown",
      "metadata": {},
      "source": [
        "## Results without Tuning"
      ]
    },
    {
      "cell_type": "code",
      "execution_count": 8,
      "metadata": {},
      "outputs": [],
      "source": [
        "rf_model.train()\n",
        "rf_model.predict()"
      ]
    },
    {
      "cell_type": "code",
      "execution_count": 9,
      "metadata": {},
      "outputs": [
        {
          "data": {
            "text/plain": [
              "{'accuracy': 0.81,\n",
              " 'precision': 0.6666666666666666,\n",
              " 'recall': 0.4489795918367347,\n",
              " 'f1_score': 0.5365853658536586}"
            ]
          },
          "execution_count": 9,
          "metadata": {},
          "output_type": "execute_result"
        }
      ],
      "source": [
        "# No Tuning is already decent, with bad recall though\n",
        "rf_model.evaluate()"
      ]
    },
    {
      "cell_type": "code",
      "execution_count": 10,
      "metadata": {},
      "outputs": [
        {
          "data": {
            "image/png": "[encoded data removed]",
            "text/plain": [
              "<Figure size 800x600 with 1 Axes>"
            ]
          },
          "metadata": {},
          "output_type": "display_data"
        }
      ],
      "source": [
        "cm_rf_base = rf_model.plot_confusion_matrix()"
      ]
    },
    {
      "cell_type": "markdown",
      "metadata": {},
      "source": [
        "## Results with Tuning"
      ]
    },
    {
      "cell_type": "code",
      "execution_count": 11,
      "metadata": {},
      "outputs": [
        {
          "name": "stderr",
          "output_type": "stream",
          "text": [
            "[I 2024-04-01 17:36:52,010] A new study created in memory with name: no-name-0fe5063c-9ce6-41e8-acb8-90aa6f5b3ace\n",
            "[I 2024-04-01 17:36:52,088] Trial 0 finished with value: 0.8323718068014044 and parameters: {'n_estimators': 22, 'max_depth': 8, 'criterion': 'gini'}. Best is trial 0 with value: 0.8323718068014044.\n",
            "[I 2024-04-01 17:36:52,128] Trial 1 finished with value: 0.8231907792707287 and parameters: {'n_estimators': 10, 'max_depth': 8, 'criterion': 'gini'}. Best is trial 0 with value: 0.8323718068014044.\n",
            "[I 2024-04-01 17:36:52,181] Trial 2 finished with value: 0.82490291683726 and parameters: {'n_estimators': 14, 'max_depth': 10, 'criterion': 'log_loss'}. Best is trial 0 with value: 0.8323718068014044.\n",
            "[I 2024-04-01 17:36:52,235] Trial 3 finished with value: 0.8273594620414139 and parameters: {'n_estimators': 18, 'max_depth': 6, 'criterion': 'log_loss'}. Best is trial 0 with value: 0.8323718068014044.\n",
            "[I 2024-04-01 17:36:52,304] Trial 4 finished with value: 0.834832487603545 and parameters: {'n_estimators': 24, 'max_depth': 6, 'criterion': 'log_loss'}. Best is trial 4 with value: 0.834832487603545.\n",
            "[I 2024-04-01 17:36:52,393] Trial 5 finished with value: 0.8290302436280773 and parameters: {'n_estimators': 30, 'max_depth': 7, 'criterion': 'log_loss'}. Best is trial 4 with value: 0.834832487603545.\n",
            "[I 2024-04-01 17:36:52,426] Trial 6 finished with value: 0.818219790490606 and parameters: {'n_estimators': 10, 'max_depth': 6, 'criterion': 'gini'}. Best is trial 4 with value: 0.834832487603545.\n",
            "[I 2024-04-01 17:36:52,473] Trial 7 finished with value: 0.8240468480539945 and parameters: {'n_estimators': 13, 'max_depth': 8, 'criterion': 'log_loss'}. Best is trial 4 with value: 0.834832487603545.\n",
            "[I 2024-04-01 17:36:52,522] Trial 8 finished with value: 0.8273656654383941 and parameters: {'n_estimators': 18, 'max_depth': 5, 'criterion': 'gini'}. Best is trial 4 with value: 0.834832487603545.\n",
            "[I 2024-04-01 17:36:52,565] Trial 9 finished with value: 0.8215448112719859 and parameters: {'n_estimators': 13, 'max_depth': 7, 'criterion': 'gini'}. Best is trial 4 with value: 0.834832487603545.\n",
            "[I 2024-04-01 17:36:52,645] Trial 10 finished with value: 0.8190551812839377 and parameters: {'n_estimators': 29, 'max_depth': 5, 'criterion': 'entropy'}. Best is trial 4 with value: 0.834832487603545.\n",
            "[I 2024-04-01 17:36:52,729] Trial 11 finished with value: 0.8298863124113431 and parameters: {'n_estimators': 23, 'max_depth': 9, 'criterion': 'entropy'}. Best is trial 4 with value: 0.834832487603545.\n",
            "[I 2024-04-01 17:36:52,803] Trial 12 finished with value: 0.8414763257693245 and parameters: {'n_estimators': 22, 'max_depth': 6, 'criterion': 'log_loss'}. Best is trial 12 with value: 0.8414763257693245.\n",
            "[I 2024-04-01 17:36:52,880] Trial 13 finished with value: 0.8298511598284555 and parameters: {'n_estimators': 23, 'max_depth': 6, 'criterion': 'log_loss'}. Best is trial 12 with value: 0.8414763257693245.\n",
            "[I 2024-04-01 17:36:52,961] Trial 14 finished with value: 0.8290219724321037 and parameters: {'n_estimators': 26, 'max_depth': 6, 'criterion': 'log_loss'}. Best is trial 12 with value: 0.8414763257693245.\n",
            "[I 2024-04-01 17:36:53,022] Trial 15 finished with value: 0.8099072385371562 and parameters: {'n_estimators': 20, 'max_depth': 5, 'criterion': 'log_loss'}. Best is trial 12 with value: 0.8414763257693245.\n",
            "[I 2024-04-01 17:36:53,077] Trial 16 finished with value: 0.8273739366343676 and parameters: {'n_estimators': 16, 'max_depth': 7, 'criterion': 'log_loss'}. Best is trial 12 with value: 0.8414763257693245.\n",
            "[I 2024-04-01 17:36:53,155] Trial 17 finished with value: 0.83233251862053 and parameters: {'n_estimators': 26, 'max_depth': 6, 'criterion': 'entropy'}. Best is trial 12 with value: 0.8414763257693245.\n",
            "[I 2024-04-01 17:36:53,214] Trial 18 finished with value: 0.8206846068907333 and parameters: {'n_estimators': 20, 'max_depth': 5, 'criterion': 'log_loss'}. Best is trial 12 with value: 0.8414763257693245.\n",
            "[I 2024-04-01 17:36:53,292] Trial 19 finished with value: 0.8257176296406579 and parameters: {'n_estimators': 25, 'max_depth': 7, 'criterion': 'log_loss'}. Best is trial 12 with value: 0.8414763257693245.\n",
            "[I 2024-04-01 17:36:53,345] Trial 20 finished with value: 0.8248698320533657 and parameters: {'n_estimators': 16, 'max_depth': 6, 'criterion': 'entropy'}. Best is trial 12 with value: 0.8414763257693245.\n",
            "[I 2024-04-01 17:36:53,414] Trial 21 finished with value: 0.8356596072009032 and parameters: {'n_estimators': 21, 'max_depth': 8, 'criterion': 'gini'}. Best is trial 12 with value: 0.8414763257693245.\n",
            "[I 2024-04-01 17:36:53,482] Trial 22 finished with value: 0.819088266067832 and parameters: {'n_estimators': 20, 'max_depth': 9, 'criterion': 'gini'}. Best is trial 12 with value: 0.8414763257693245.\n",
            "[I 2024-04-01 17:36:53,552] Trial 23 finished with value: 0.8240613226469481 and parameters: {'n_estimators': 21, 'max_depth': 9, 'criterion': 'gini'}. Best is trial 12 with value: 0.8414763257693245.\n",
            "[I 2024-04-01 17:36:53,630] Trial 24 finished with value: 0.8215882350508471 and parameters: {'n_estimators': 24, 'max_depth': 8, 'criterion': 'log_loss'}. Best is trial 12 with value: 0.8414763257693245.\n",
            "[I 2024-04-01 17:36:53,717] Trial 25 finished with value: 0.8248946456412866 and parameters: {'n_estimators': 27, 'max_depth': 10, 'criterion': 'gini'}. Best is trial 12 with value: 0.8414763257693245.\n",
            "[I 2024-04-01 17:36:53,777] Trial 26 finished with value: 0.8265364780420424 and parameters: {'n_estimators': 18, 'max_depth': 7, 'criterion': 'log_loss'}. Best is trial 12 with value: 0.8414763257693245.\n",
            "[I 2024-04-01 17:36:53,855] Trial 27 finished with value: 0.8232383386475767 and parameters: {'n_estimators': 22, 'max_depth': 8, 'criterion': 'log_loss'}. Best is trial 12 with value: 0.8414763257693245.\n",
            "[I 2024-04-01 17:36:53,925] Trial 28 finished with value: 0.8240778650388952 and parameters: {'n_estimators': 19, 'max_depth': 9, 'criterion': 'entropy'}. Best is trial 12 with value: 0.8414763257693245.\n",
            "[I 2024-04-01 17:36:54,004] Trial 29 finished with value: 0.8282031240307193 and parameters: {'n_estimators': 28, 'max_depth': 6, 'criterion': 'gini'}. Best is trial 12 with value: 0.8414763257693245.\n",
            "[I 2024-04-01 17:36:54,072] Trial 30 finished with value: 0.8373179819936064 and parameters: {'n_estimators': 22, 'max_depth': 7, 'criterion': 'gini'}. Best is trial 12 with value: 0.8414763257693245.\n",
            "[I 2024-04-01 17:36:54,138] Trial 31 finished with value: 0.8232383386475767 and parameters: {'n_estimators': 22, 'max_depth': 7, 'criterion': 'gini'}. Best is trial 12 with value: 0.8414763257693245.\n",
            "[I 2024-04-01 17:36:54,211] Trial 32 finished with value: 0.8224050156532384 and parameters: {'n_estimators': 23, 'max_depth': 8, 'criterion': 'gini'}. Best is trial 12 with value: 0.8414763257693245.\n",
            "[I 2024-04-01 17:36:54,279] Trial 33 finished with value: 0.8406533417699532 and parameters: {'n_estimators': 21, 'max_depth': 7, 'criterion': 'gini'}. Best is trial 12 with value: 0.8414763257693245.\n",
            "[I 2024-04-01 17:36:54,341] Trial 34 finished with value: 0.8182384006815466 and parameters: {'n_estimators': 17, 'max_depth': 8, 'criterion': 'gini'}. Best is trial 12 with value: 0.8414763257693245.\n",
            "[I 2024-04-01 17:36:54,411] Trial 35 finished with value: 0.8248843066463195 and parameters: {'n_estimators': 21, 'max_depth': 7, 'criterion': 'gini'}. Best is trial 12 with value: 0.8414763257693245.\n",
            "[I 2024-04-01 17:36:54,479] Trial 36 finished with value: 0.8240757972399019 and parameters: {'n_estimators': 19, 'max_depth': 8, 'criterion': 'gini'}. Best is trial 12 with value: 0.8414763257693245.\n",
            "[I 2024-04-01 17:36:54,534] Trial 37 finished with value: 0.8207321662675815 and parameters: {'n_estimators': 15, 'max_depth': 7, 'criterion': 'gini'}. Best is trial 12 with value: 0.8414763257693245.\n",
            "[I 2024-04-01 17:36:54,604] Trial 38 finished with value: 0.8240633904459416 and parameters: {'n_estimators': 21, 'max_depth': 8, 'criterion': 'gini'}. Best is trial 12 with value: 0.8414763257693245.\n",
            "[I 2024-04-01 17:36:54,686] Trial 39 finished with value: 0.8290488538190179 and parameters: {'n_estimators': 25, 'max_depth': 9, 'criterion': 'gini'}. Best is trial 12 with value: 0.8414763257693245.\n",
            "[I 2024-04-01 17:36:54,755] Trial 40 finished with value: 0.8240695938429217 and parameters: {'n_estimators': 19, 'max_depth': 10, 'criterion': 'gini'}. Best is trial 12 with value: 0.8414763257693245.\n",
            "[I 2024-04-01 17:36:54,828] Trial 41 finished with value: 0.814898905307213 and parameters: {'n_estimators': 24, 'max_depth': 6, 'criterion': 'log_loss'}. Best is trial 12 with value: 0.8414763257693245.\n",
            "[I 2024-04-01 17:36:54,893] Trial 42 finished with value: 0.83233251862053 and parameters: {'n_estimators': 22, 'max_depth': 6, 'criterion': 'gini'}. Best is trial 12 with value: 0.8414763257693245.\n",
            "[I 2024-04-01 17:36:54,971] Trial 43 finished with value: 0.8232197284566363 and parameters: {'n_estimators': 24, 'max_depth': 7, 'criterion': 'log_loss'}. Best is trial 12 with value: 0.8414763257693245.\n",
            "[I 2024-04-01 17:36:55,050] Trial 44 finished with value: 0.8298635666224158 and parameters: {'n_estimators': 28, 'max_depth': 6, 'criterion': 'gini'}. Best is trial 12 with value: 0.8414763257693245.\n",
            "[I 2024-04-01 17:36:55,111] Trial 45 finished with value: 0.8323531966104638 and parameters: {'n_estimators': 18, 'max_depth': 7, 'criterion': 'log_loss'}. Best is trial 12 with value: 0.8414763257693245.\n",
            "[I 2024-04-01 17:36:55,180] Trial 46 finished with value: 0.8323345864195234 and parameters: {'n_estimators': 23, 'max_depth': 6, 'criterion': 'gini'}. Best is trial 12 with value: 0.8414763257693245.\n",
            "[I 2024-04-01 17:36:55,276] Trial 47 finished with value: 0.8365012013912153 and parameters: {'n_estimators': 30, 'max_depth': 8, 'criterion': 'entropy'}. Best is trial 12 with value: 0.8414763257693245.\n",
            "[I 2024-04-01 17:36:55,326] Trial 48 finished with value: 0.8306968896167541 and parameters: {'n_estimators': 13, 'max_depth': 8, 'criterion': 'entropy'}. Best is trial 12 with value: 0.8414763257693245.\n",
            "[I 2024-04-01 17:36:55,421] Trial 49 finished with value: 0.8331844518058089 and parameters: {'n_estimators': 30, 'max_depth': 8, 'criterion': 'entropy'}. Best is trial 12 with value: 0.8414763257693245.\n",
            "[I 2024-04-01 17:36:55,470] Trial 50 finished with value: 0.8232362708485833 and parameters: {'n_estimators': 12, 'max_depth': 9, 'criterion': 'entropy'}. Best is trial 12 with value: 0.8414763257693245.\n",
            "[I 2024-04-01 17:36:55,552] Trial 51 finished with value: 0.8281948528347457 and parameters: {'n_estimators': 26, 'max_depth': 7, 'criterion': 'entropy'}. Best is trial 12 with value: 0.8414763257693245.\n",
            "[I 2024-04-01 17:36:55,622] Trial 52 finished with value: 0.8232011182656956 and parameters: {'n_estimators': 25, 'max_depth': 5, 'criterion': 'log_loss'}. Best is trial 12 with value: 0.8414763257693245.\n",
            "[I 2024-04-01 17:36:55,714] Trial 53 finished with value: 0.8265468170370095 and parameters: {'n_estimators': 29, 'max_depth': 8, 'criterion': 'entropy'}. Best is trial 12 with value: 0.8414763257693245.\n",
            "[I 2024-04-01 17:36:55,779] Trial 54 finished with value: 0.824882238847326 and parameters: {'n_estimators': 20, 'max_depth': 7, 'criterion': 'log_loss'}. Best is trial 12 with value: 0.8414763257693245.\n",
            "[I 2024-04-01 17:36:55,850] Trial 55 finished with value: 0.8207094204786541 and parameters: {'n_estimators': 21, 'max_depth': 6, 'criterion': 'log_loss'}. Best is trial 12 with value: 0.8414763257693245.\n",
            "[I 2024-04-01 17:36:55,930] Trial 56 finished with value: 0.8398241543736016 and parameters: {'n_estimators': 22, 'max_depth': 9, 'criterion': 'entropy'}. Best is trial 12 with value: 0.8414763257693245.\n",
            "[I 2024-04-01 17:36:55,999] Trial 57 finished with value: 0.8248967134402799 and parameters: {'n_estimators': 17, 'max_depth': 10, 'criterion': 'entropy'}. Best is trial 12 with value: 0.8414763257693245.\n",
            "[I 2024-04-01 17:36:56,078] Trial 58 finished with value: 0.8273801400313477 and parameters: {'n_estimators': 22, 'max_depth': 9, 'criterion': 'entropy'}. Best is trial 12 with value: 0.8414763257693245.\n",
            "[I 2024-04-01 17:36:56,140] Trial 59 finished with value: 0.8257176296406579 and parameters: {'n_estimators': 16, 'max_depth': 9, 'criterion': 'entropy'}. Best is trial 12 with value: 0.8414763257693245.\n",
            "[I 2024-04-01 17:36:56,191] Trial 60 finished with value: 0.8249008490382668 and parameters: {'n_estimators': 12, 'max_depth': 10, 'criterion': 'entropy'}. Best is trial 12 with value: 0.8414763257693245.\n",
            "[I 2024-04-01 17:36:56,276] Trial 61 finished with value: 0.8265695628259367 and parameters: {'n_estimators': 24, 'max_depth': 9, 'criterion': 'entropy'}. Best is trial 12 with value: 0.8414763257693245.\n",
            "[I 2024-04-01 17:36:56,361] Trial 62 finished with value: 0.8215778960558802 and parameters: {'n_estimators': 27, 'max_depth': 8, 'criterion': 'gini'}. Best is trial 12 with value: 0.8414763257693245.\n",
            "[I 2024-04-01 17:36:56,429] Trial 63 finished with value: 0.8306906862197739 and parameters: {'n_estimators': 20, 'max_depth': 7, 'criterion': 'log_loss'}. Best is trial 12 with value: 0.8414763257693245.\n",
            "[I 2024-04-01 17:36:56,496] Trial 64 finished with value: 0.8140697179108614 and parameters: {'n_estimators': 23, 'max_depth': 6, 'criterion': 'gini'}. Best is trial 12 with value: 0.8414763257693245.\n",
            "[I 2024-04-01 17:36:56,563] Trial 65 finished with value: 0.8315012634251849 and parameters: {'n_estimators': 21, 'max_depth': 6, 'criterion': 'log_loss'}. Best is trial 12 with value: 0.8414763257693245.\n",
            "[I 2024-04-01 17:36:56,639] Trial 66 finished with value: 0.8273780722323544 and parameters: {'n_estimators': 22, 'max_depth': 8, 'criterion': 'entropy'}. Best is trial 12 with value: 0.8414763257693245.\n",
            "[I 2024-04-01 17:36:56,711] Trial 67 finished with value: 0.8455933135651751 and parameters: {'n_estimators': 26, 'max_depth': 5, 'criterion': 'gini'}. Best is trial 67 with value: 0.8455933135651751.\n",
            "[I 2024-04-01 17:36:56,790] Trial 68 finished with value: 0.8273470552474537 and parameters: {'n_estimators': 30, 'max_depth': 5, 'criterion': 'gini'}. Best is trial 67 with value: 0.8455933135651751.\n",
            "[I 2024-04-01 17:36:56,863] Trial 69 finished with value: 0.8149051087041931 and parameters: {'n_estimators': 27, 'max_depth': 5, 'criterion': 'gini'}. Best is trial 67 with value: 0.8455933135651751.\n",
            "[I 2024-04-01 17:36:56,929] Trial 70 finished with value: 0.8033233665421852 and parameters: {'n_estimators': 19, 'max_depth': 9, 'criterion': 'gini'}. Best is trial 67 with value: 0.8455933135651751.\n",
            "[I 2024-04-01 17:36:57,004] Trial 71 finished with value: 0.8298739056173828 and parameters: {'n_estimators': 25, 'max_depth': 7, 'criterion': 'gini'}. Best is trial 67 with value: 0.8455933135651751.\n",
            "[I 2024-04-01 17:36:57,079] Trial 72 finished with value: 0.8157260249045711 and parameters: {'n_estimators': 28, 'max_depth': 5, 'criterion': 'gini'}. Best is trial 67 with value: 0.8455933135651751.\n",
            "[I 2024-04-01 17:36:57,156] Trial 73 finished with value: 0.8190779270728651 and parameters: {'n_estimators': 26, 'max_depth': 7, 'criterion': 'gini'}. Best is trial 67 with value: 0.8455933135651751.\n",
            "[I 2024-04-01 17:36:57,235] Trial 74 finished with value: 0.8298718378183892 and parameters: {'n_estimators': 23, 'max_depth': 8, 'criterion': 'log_loss'}. Best is trial 67 with value: 0.8455933135651751.\n",
            "[I 2024-04-01 17:36:57,307] Trial 75 finished with value: 0.828207259628706 and parameters: {'n_estimators': 24, 'max_depth': 7, 'criterion': 'gini'}. Best is trial 67 with value: 0.8455933135651751.\n",
            "[I 2024-04-01 17:36:57,386] Trial 76 finished with value: 0.8249091202342402 and parameters: {'n_estimators': 22, 'max_depth': 10, 'criterion': 'log_loss'}. Best is trial 67 with value: 0.8455933135651751.\n",
            "[I 2024-04-01 17:36:57,452] Trial 77 finished with value: 0.8290219724321037 and parameters: {'n_estimators': 25, 'max_depth': 5, 'criterion': 'gini'}. Best is trial 67 with value: 0.8455933135651751.\n",
            "[I 2024-04-01 17:36:57,535] Trial 78 finished with value: 0.8381471693899579 and parameters: {'n_estimators': 29, 'max_depth': 6, 'criterion': 'entropy'}. Best is trial 67 with value: 0.8455933135651751.\n",
            "[I 2024-04-01 17:36:57,629] Trial 79 finished with value: 0.8199112500672036 and parameters: {'n_estimators': 29, 'max_depth': 8, 'criterion': 'entropy'}. Best is trial 67 with value: 0.8455933135651751.\n",
            "[I 2024-04-01 17:36:57,717] Trial 80 finished with value: 0.8207238950716079 and parameters: {'n_estimators': 29, 'max_depth': 7, 'criterion': 'entropy'}. Best is trial 67 with value: 0.8455933135651751.\n",
            "[I 2024-04-01 17:36:57,800] Trial 81 finished with value: 0.8356616749998965 and parameters: {'n_estimators': 28, 'max_depth': 6, 'criterion': 'entropy'}. Best is trial 67 with value: 0.8455933135651751.\n",
            "[I 2024-04-01 17:36:57,883] Trial 82 finished with value: 0.8265323424440557 and parameters: {'n_estimators': 27, 'max_depth': 6, 'criterion': 'entropy'}. Best is trial 67 with value: 0.8455933135651751.\n",
            "[I 2024-04-01 17:36:57,969] Trial 83 finished with value: 0.8306906862197739 and parameters: {'n_estimators': 28, 'max_depth': 6, 'criterion': 'entropy'}. Best is trial 67 with value: 0.8455933135651751.\n",
            "[I 2024-04-01 17:36:58,059] Trial 84 finished with value: 0.8232093894616691 and parameters: {'n_estimators': 30, 'max_depth': 6, 'criterion': 'entropy'}. Best is trial 67 with value: 0.8455933135651751.\n",
            "[I 2024-04-01 17:36:58,148] Trial 85 finished with value: 0.8190944694648122 and parameters: {'n_estimators': 26, 'max_depth': 9, 'criterion': 'entropy'}. Best is trial 67 with value: 0.8455933135651751.\n",
            "[I 2024-04-01 17:36:58,239] Trial 86 finished with value: 0.8132715474994107 and parameters: {'n_estimators': 29, 'max_depth': 7, 'criterion': 'entropy'}. Best is trial 67 with value: 0.8455933135651751.\n",
            "[I 2024-04-01 17:36:58,324] Trial 87 finished with value: 0.8323428576154969 and parameters: {'n_estimators': 28, 'max_depth': 6, 'criterion': 'entropy'}. Best is trial 67 with value: 0.8455933135651751.\n",
            "[I 2024-04-01 17:36:58,408] Trial 88 finished with value: 0.8174154166821751 and parameters: {'n_estimators': 27, 'max_depth': 7, 'criterion': 'entropy'}. Best is trial 67 with value: 0.8455933135651751.\n",
            "[I 2024-04-01 17:36:58,450] Trial 89 finished with value: 0.8174133488831817 and parameters: {'n_estimators': 10, 'max_depth': 8, 'criterion': 'gini'}. Best is trial 67 with value: 0.8455933135651751.\n",
            "[I 2024-04-01 17:36:58,523] Trial 90 finished with value: 0.8248946456412866 and parameters: {'n_estimators': 20, 'max_depth': 9, 'criterion': 'entropy'}. Best is trial 67 with value: 0.8455933135651751.\n",
            "[I 2024-04-01 17:36:58,593] Trial 91 finished with value: 0.8240365090590274 and parameters: {'n_estimators': 21, 'max_depth': 6, 'criterion': 'log_loss'}. Best is trial 67 with value: 0.8455933135651751.\n",
            "[I 2024-04-01 17:36:58,664] Trial 92 finished with value: 0.8281886494377654 and parameters: {'n_estimators': 24, 'max_depth': 6, 'criterion': 'gini'}. Best is trial 67 with value: 0.8455933135651751.\n",
            "[I 2024-04-01 17:36:58,735] Trial 93 finished with value: 0.8223698630703505 and parameters: {'n_estimators': 23, 'max_depth': 6, 'criterion': 'log_loss'}. Best is trial 67 with value: 0.8455933135651751.\n",
            "[I 2024-04-01 17:36:58,815] Trial 94 finished with value: 0.8248698320533658 and parameters: {'n_estimators': 26, 'max_depth': 6, 'criterion': 'entropy'}. Best is trial 67 with value: 0.8455933135651751.\n",
            "[I 2024-04-01 17:36:58,872] Trial 95 finished with value: 0.8173968064912346 and parameters: {'n_estimators': 18, 'max_depth': 6, 'criterion': 'gini'}. Best is trial 67 with value: 0.8455933135651751.\n",
            "[I 2024-04-01 17:36:58,961] Trial 96 finished with value: 0.8249111880332336 and parameters: {'n_estimators': 25, 'max_depth': 10, 'criterion': 'entropy'}. Best is trial 67 with value: 0.8455933135651751.\n",
            "[I 2024-04-01 17:36:59,043] Trial 97 finished with value: 0.8340177748001473 and parameters: {'n_estimators': 27, 'max_depth': 7, 'criterion': 'gini'}. Best is trial 67 with value: 0.8455933135651751.\n",
            "[I 2024-04-01 17:36:59,122] Trial 98 finished with value: 0.8182508074755068 and parameters: {'n_estimators': 22, 'max_depth': 8, 'criterion': 'log_loss'}. Best is trial 67 with value: 0.8455933135651751.\n",
            "[I 2024-04-01 17:36:59,206] Trial 99 finished with value: 0.8290137012361303 and parameters: {'n_estimators': 30, 'max_depth': 5, 'criterion': 'gini'}. Best is trial 67 with value: 0.8455933135651751.\n"
          ]
        },
        {
          "data": {
            "text/plain": [
              "(0.8455933135651751, {'n_estimators': 26, 'max_depth': 5, 'criterion': 'gini'})"
            ]
          },
          "execution_count": 11,
          "metadata": {},
          "output_type": "execute_result"
        }
      ],
      "source": [
        "rf_model.finetune()"
      ]
    },
    {
      "cell_type": "code",
      "execution_count": 12,
      "metadata": {},
      "outputs": [
        {
          "data": {
            "text/plain": [
              "{'accuracy': 0.805,\n",
              " 'precision': 0.5961538461538461,\n",
              " 'recall': 0.6326530612244898,\n",
              " 'f1_score': 0.6138613861386137}"
            ]
          },
          "execution_count": 12,
          "metadata": {},
          "output_type": "execute_result"
        }
      ],
      "source": [
        "rf_model.train()\n",
        "rf_model.predict()\n",
        "\n",
        "rf_model.evaluate()"
      ]
    },
    {
      "cell_type": "code",
      "execution_count": 13,
      "metadata": {},
      "outputs": [
        {
          "data": {
            "image/png": "[encoded data removed]",
            "text/plain": [
              "<Figure size 800x600 with 1 Axes>"
            ]
          },
          "metadata": {},
          "output_type": "display_data"
        }
      ],
      "source": [
        "cm_rf_tuned = rf_model.plot_confusion_matrix()"
      ]
    },
    {
      "cell_type": "markdown",
      "metadata": {},
      "source": [
        "# XGBoost"
      ]
    },
    {
      "cell_type": "markdown",
      "metadata": {},
      "source": [
        "## Dataset Creation"
      ]
    },
    {
      "cell_type": "code",
      "execution_count": 7,
      "metadata": {},
      "outputs": [],
      "source": [
        "X_train_xgb, X_test_xgb, y_train_xgb, y_test_xgb = preprocessing.preprocess_pipeline(\n",
        "    df,\n",
        "    encoding = False,\n",
        "    normalization = False,\n",
        "    )"
      ]
    },
    {
      "cell_type": "code",
      "execution_count": 9,
      "metadata": {},
      "outputs": [],
      "source": [
        "rows_with_nan = X_train_xgb[X_train_xgb.isna().any(axis=1)]"
      ]
    },
    {
      "cell_type": "code",
      "execution_count": 77,
      "metadata": {},
      "outputs": [],
      "source": [
        "# Format the data into categorical type\n",
        "\n",
        "cate_cols = parameters.cate_cols\n",
        "\n",
        "X_train_xgb[cate_cols] = X_train_xgb[cate_cols].astype(\"category\")\n",
        "X_test_xgb[cate_cols] = X_test_xgb[cate_cols].astype(\"category\")"
      ]
    },
    {
      "cell_type": "code",
      "execution_count": 78,
      "metadata": {},
      "outputs": [
        {
          "data": {
            "text/plain": [
              "months_as_customer                                 int64\n",
              "age                                                int64\n",
              "policy_state                                    category\n",
              "policy_deductable                                  int64\n",
              "policy_annual_premium                            float64\n",
              "umbrella_limit                                     int64\n",
              "insured_sex                                     category\n",
              "insured_education_level                         category\n",
              "insured_occupation                              category\n",
              "insured_hobbies                                 category\n",
              "insured_relationship                            category\n",
              "capital-gains                                      int64\n",
              "capital-loss                                       int64\n",
              "incident_year                                      int64\n",
              "incident_type                                   category\n",
              "collision_type                                  category\n",
              "incident_severity                               category\n",
              "authorities_contacted                           category\n",
              "incident_state                                  category\n",
              "incident_hour_of_the_day                           int64\n",
              "number_of_vehicles_involved                        int64\n",
              "property_damage                                 category\n",
              "bodily_injuries                                    int64\n",
              "witnesses                                          int64\n",
              "police_report_available                         category\n",
              "total_claim_amount                                 int64\n",
              "injury_claim                                       int64\n",
              "property_claim                                     int64\n",
              "vehicle_claim                                      int64\n",
              "auto_make                                       category\n",
              "policy_age_during_incident_in_days               float64\n",
              "bodily_injured_maximum_coverage_per_accident       int64\n",
              "complete_maximum_coverage_per_accident             int64\n",
              "car_age                                            int64\n",
              "auto_region                                     category\n",
              "auto_type                                       category\n",
              "dtype: object"
            ]
          },
          "execution_count": 78,
          "metadata": {},
          "output_type": "execute_result"
        }
      ],
      "source": [
        "X_train_xgb.dtypes"
      ]
    },
    {
      "cell_type": "markdown",
      "metadata": {},
      "source": [
        "## Model Creation"
      ]
    },
    {
      "cell_type": "code",
      "execution_count": 79,
      "metadata": {},
      "outputs": [],
      "source": [
        "xgb_static_params = {\n",
        "    \"enable_categorical\": True # Enable categorical data\n",
        "}"
      ]
    },
    {
      "cell_type": "code",
      "execution_count": 80,
      "metadata": {},
      "outputs": [],
      "source": [
        "from xgboost import XGBClassifier\n",
        "xgb_model = models.IndividualModel(\n",
        "    model_func = XGBClassifier,\n",
        "    param_info = parameters.XGB_INFORMATION,\n",
        "    X_train = X_train_xgb,\n",
        "    X_test = X_test_xgb,\n",
        "    y_train = y_train_xgb,\n",
        "    y_test = y_test_xgb,\n",
        "    static_params = xgb_static_params\n",
        "    )"
      ]
    },
    {
      "cell_type": "markdown",
      "metadata": {},
      "source": [
        "## Results with no tuning"
      ]
    },
    {
      "cell_type": "code",
      "execution_count": 81,
      "metadata": {},
      "outputs": [
        {
          "data": {
            "text/plain": [
              "{'accuracy': 0.81,\n",
              " 'precision': 0.6037735849056604,\n",
              " 'recall': 0.6530612244897959,\n",
              " 'f1_score': 0.6274509803921567}"
            ]
          },
          "execution_count": 81,
          "metadata": {},
          "output_type": "execute_result"
        }
      ],
      "source": [
        "xgb_model.train_predict()\n",
        "\n",
        "xgb_model.evaluate()"
      ]
    },
    {
      "cell_type": "code",
      "execution_count": 82,
      "metadata": {},
      "outputs": [
        {
          "data": {
            "image/png": "[encoded data removed]",
            "text/plain": [
              "<Figure size 800x600 with 1 Axes>"
            ]
          },
          "metadata": {},
          "output_type": "display_data"
        }
      ],
      "source": [
        "cm_xgb_base = xgb_model.plot_confusion_matrix()"
      ]
    },
    {
      "cell_type": "markdown",
      "metadata": {},
      "source": [
        "## Results with Tuning"
      ]
    },
    {
      "cell_type": "code",
      "execution_count": 83,
      "metadata": {},
      "outputs": [
        {
          "name": "stderr",
          "output_type": "stream",
          "text": [
            "[I 2024-04-01 19:11:11,135] A new study created in memory with name: no-name-89d1e60c-4286-49ab-aad0-0f8746087aa1\n",
            "[I 2024-04-01 19:11:11,441] Trial 0 finished with value: 0.8779045643153527 and parameters: {'n_estimators': 129, 'max_depth': 17, 'learning_rate': 0.15000000000000002, 'subsample': 0.55, 'colsample_bytree': 0.30000000000000004, 'gamma': 3.5, 'reg_alpha': 3.9000000000000004, 'reg_lambda': 3.5}. Best is trial 0 with value: 0.8779045643153527.\n",
            "[I 2024-04-01 19:11:11,587] Trial 1 finished with value: 0.8165041493775934 and parameters: {'n_estimators': 12, 'max_depth': 28, 'learning_rate': 0.39, 'subsample': 0.95, 'colsample_bytree': 0.2, 'gamma': 0.5, 'reg_alpha': 4.2, 'reg_lambda': 3.2}. Best is trial 0 with value: 0.8779045643153527.\n",
            "[I 2024-04-01 19:11:12,114] Trial 2 finished with value: 0.8696058091286307 and parameters: {'n_estimators': 317, 'max_depth': 13, 'learning_rate': 0.29000000000000004, 'subsample': 0.2, 'colsample_bytree': 0.30000000000000004, 'gamma': 4.7, 'reg_alpha': 4.7, 'reg_lambda': 2.8000000000000003}. Best is trial 0 with value: 0.8779045643153527.\n",
            "[I 2024-04-01 19:11:12,306] Trial 3 finished with value: 0.8522199170124483 and parameters: {'n_estimators': 41, 'max_depth': 26, 'learning_rate': 0.29000000000000004, 'subsample': 0.55, 'colsample_bytree': 0.2, 'gamma': 1.2000000000000002, 'reg_alpha': 1.0, 'reg_lambda': 1.0}. Best is trial 0 with value: 0.8779045643153527.\n",
            "[I 2024-04-01 19:11:12,480] Trial 4 finished with value: 0.8762448132780083 and parameters: {'n_estimators': 21, 'max_depth': 28, 'learning_rate': 0.05, 'subsample': 0.8500000000000001, 'colsample_bytree': 1.0, 'gamma': 3.2, 'reg_alpha': 2.1, 'reg_lambda': 4.7}. Best is trial 0 with value: 0.8779045643153527.\n",
            "[I 2024-04-01 19:11:12,757] Trial 5 finished with value: 0.8754183955739971 and parameters: {'n_estimators': 83, 'max_depth': 33, 'learning_rate': 0.21000000000000002, 'subsample': 0.8500000000000001, 'colsample_bytree': 1.0, 'gamma': 3.8000000000000003, 'reg_alpha': 4.0, 'reg_lambda': 1.0}. Best is trial 0 with value: 0.8779045643153527.\n",
            "[I 2024-04-01 19:11:13,300] Trial 6 finished with value: 0.8779114799446749 and parameters: {'n_estimators': 356, 'max_depth': 35, 'learning_rate': 0.14, 'subsample': 0.9000000000000001, 'colsample_bytree': 0.4, 'gamma': 3.8000000000000003, 'reg_alpha': 2.5, 'reg_lambda': 0.0}. Best is trial 6 with value: 0.8779114799446749.\n",
            "[I 2024-04-01 19:11:13,503] Trial 7 finished with value: 0.8829080221300138 and parameters: {'n_estimators': 69, 'max_depth': 11, 'learning_rate': 0.39, 'subsample': 0.65, 'colsample_bytree': 0.55, 'gamma': 1.4000000000000001, 'reg_alpha': 3.0, 'reg_lambda': 1.0}. Best is trial 7 with value: 0.8829080221300138.\n",
            "[I 2024-04-01 19:11:15,188] Trial 8 finished with value: 0.8887136929460582 and parameters: {'n_estimators': 437, 'max_depth': 32, 'learning_rate': 0.04, 'subsample': 0.8500000000000001, 'colsample_bytree': 0.5, 'gamma': 0.30000000000000004, 'reg_alpha': 3.5, 'reg_lambda': 3.5}. Best is trial 8 with value: 0.8887136929460582.\n",
            "[I 2024-04-01 19:11:15,606] Trial 9 finished with value: 0.8828941908713693 and parameters: {'n_estimators': 140, 'max_depth': 28, 'learning_rate': 0.09, 'subsample': 0.95, 'colsample_bytree': 0.95, 'gamma': 3.1, 'reg_alpha': 2.3000000000000003, 'reg_lambda': 0.2}. Best is trial 8 with value: 0.8887136929460582.\n",
            "[I 2024-04-01 19:11:17,055] Trial 10 finished with value: 0.8820643153526971 and parameters: {'n_estimators': 461, 'max_depth': 3, 'learning_rate': 0.01, 'subsample': 0.7, 'colsample_bytree': 0.75, 'gamma': 0.0, 'reg_alpha': 0.2, 'reg_lambda': 4.9}. Best is trial 8 with value: 0.8887136929460582.\n",
            "[I 2024-04-01 19:11:17,225] Trial 11 finished with value: 0.880411479944675 and parameters: {'n_estimators': 37, 'max_depth': 9, 'learning_rate': 0.47000000000000003, 'subsample': 0.7, 'colsample_bytree': 0.55, 'gamma': 1.7000000000000002, 'reg_alpha': 3.2, 'reg_lambda': 1.8}. Best is trial 8 with value: 0.8887136929460582.\n",
            "[I 2024-04-01 19:11:17,514] Trial 12 finished with value: 0.8712690179806362 and parameters: {'n_estimators': 139, 'max_depth': 19, 'learning_rate': 0.38, 'subsample': 0.4, 'colsample_bytree': 0.6000000000000001, 'gamma': 1.9000000000000001, 'reg_alpha': 3.2, 'reg_lambda': 3.9000000000000004}. Best is trial 8 with value: 0.8887136929460582.\n",
            "[I 2024-04-01 19:11:17,979] Trial 13 finished with value: 0.8878941908713692 and parameters: {'n_estimators': 234, 'max_depth': 10, 'learning_rate': 0.49, 'subsample': 0.7, 'colsample_bytree': 0.55, 'gamma': 1.0, 'reg_alpha': 1.5, 'reg_lambda': 2.0}. Best is trial 8 with value: 0.8887136929460582.\n",
            "[I 2024-04-01 19:11:18,515] Trial 14 finished with value: 0.8762551867219918 and parameters: {'n_estimators': 241, 'max_depth': 3, 'learning_rate': 0.5, 'subsample': 0.75, 'colsample_bytree': 0.75, 'gamma': 0.7000000000000001, 'reg_alpha': 1.5, 'reg_lambda': 2.1}. Best is trial 8 with value: 0.8887136929460582.\n",
            "[I 2024-04-01 19:11:18,979] Trial 15 finished with value: 0.8903769017980636 and parameters: {'n_estimators': 234, 'max_depth': 22, 'learning_rate': 0.21000000000000002, 'subsample': 0.8, 'colsample_bytree': 0.45, 'gamma': 2.3000000000000003, 'reg_alpha': 1.3, 'reg_lambda': 4.1000000000000005}. Best is trial 15 with value: 0.8903769017980636.\n",
            "[I 2024-04-01 19:11:19,687] Trial 16 finished with value: 0.8895539419087136 and parameters: {'n_estimators': 485, 'max_depth': 23, 'learning_rate': 0.22, 'subsample': 1.0, 'colsample_bytree': 0.45, 'gamma': 2.6, 'reg_alpha': 0.8, 'reg_lambda': 4.2}. Best is trial 15 with value: 0.8903769017980636.\n",
            "[I 2024-04-01 19:11:20,086] Trial 17 finished with value: 0.8895470262793914 and parameters: {'n_estimators': 196, 'max_depth': 23, 'learning_rate': 0.24000000000000002, 'subsample': 1.0, 'colsample_bytree': 0.4, 'gamma': 2.6, 'reg_alpha': 0.1, 'reg_lambda': 4.2}. Best is trial 15 with value: 0.8903769017980636.\n",
            "[I 2024-04-01 19:11:20,850] Trial 18 finished with value: 0.8820677731673582 and parameters: {'n_estimators': 474, 'max_depth': 23, 'learning_rate': 0.17, 'subsample': 1.0, 'colsample_bytree': 0.7, 'gamma': 2.3000000000000003, 'reg_alpha': 0.6000000000000001, 'reg_lambda': 4.3}. Best is trial 15 with value: 0.8903769017980636.\n",
            "[I 2024-04-01 19:11:21,215] Trial 19 finished with value: 0.8895539419087136 and parameters: {'n_estimators': 103, 'max_depth': 16, 'learning_rate': 0.31, 'subsample': 0.8, 'colsample_bytree': 0.65, 'gamma': 2.4000000000000004, 'reg_alpha': 1.1, 'reg_lambda': 2.8000000000000003}. Best is trial 15 with value: 0.8903769017980636.\n",
            "[I 2024-04-01 19:11:21,416] Trial 20 finished with value: 0.8745850622406639 and parameters: {'n_estimators': 47, 'max_depth': 22, 'learning_rate': 0.21000000000000002, 'subsample': 0.4, 'colsample_bytree': 0.45, 'gamma': 4.5, 'reg_alpha': 1.7000000000000002, 'reg_lambda': 4.4}. Best is trial 15 with value: 0.8903769017980636.\n",
            "[I 2024-04-01 19:11:21,766] Trial 21 finished with value: 0.8853941908713694 and parameters: {'n_estimators': 115, 'max_depth': 18, 'learning_rate': 0.32, 'subsample': 0.8, 'colsample_bytree': 0.65, 'gamma': 2.5, 'reg_alpha': 1.0, 'reg_lambda': 2.7}. Best is trial 15 with value: 0.8903769017980636.\n",
            "[I 2024-04-01 19:11:22,184] Trial 22 finished with value: 0.8828941908713693 and parameters: {'n_estimators': 187, 'max_depth': 13, 'learning_rate': 0.33, 'subsample': 0.8, 'colsample_bytree': 0.8500000000000001, 'gamma': 2.1, 'reg_alpha': 0.9, 'reg_lambda': 3.8000000000000003}. Best is trial 15 with value: 0.8903769017980636.\n",
            "[I 2024-04-01 19:11:22,708] Trial 23 finished with value: 0.8862240663900416 and parameters: {'n_estimators': 284, 'max_depth': 15, 'learning_rate': 0.24000000000000002, 'subsample': 0.6000000000000001, 'colsample_bytree': 0.35000000000000003, 'gamma': 2.8000000000000003, 'reg_alpha': 0.5, 'reg_lambda': 5.0}. Best is trial 15 with value: 0.8903769017980636.\n",
            "[I 2024-04-01 19:11:22,979] Trial 24 finished with value: 0.883734439834025 and parameters: {'n_estimators': 91, 'max_depth': 21, 'learning_rate': 0.19, 'subsample': 0.9000000000000001, 'colsample_bytree': 0.45, 'gamma': 3.0, 'reg_alpha': 1.8, 'reg_lambda': 3.0}. Best is trial 15 with value: 0.8903769017980636.\n",
            "[I 2024-04-01 19:11:23,507] Trial 25 finished with value: 0.8870435684647303 and parameters: {'n_estimators': 186, 'max_depth': 24, 'learning_rate': 0.11, 'subsample': 0.45, 'colsample_bytree': 0.65, 'gamma': 1.6, 'reg_alpha': 1.2000000000000002, 'reg_lambda': 2.4000000000000004}. Best is trial 15 with value: 0.8903769017980636.\n",
            "[I 2024-04-01 19:11:24,088] Trial 26 finished with value: 0.8845677731673582 and parameters: {'n_estimators': 324, 'max_depth': 16, 'learning_rate': 0.28, 'subsample': 0.8, 'colsample_bytree': 0.8, 'gamma': 2.3000000000000003, 'reg_alpha': 0.6000000000000001, 'reg_lambda': 3.5}. Best is trial 15 with value: 0.8903769017980636.\n",
            "[I 2024-04-01 19:11:24,267] Trial 27 finished with value: 0.8787413554633471 and parameters: {'n_estimators': 53, 'max_depth': 7, 'learning_rate': 0.34, 'subsample': 0.95, 'colsample_bytree': 0.5, 'gamma': 4.1000000000000005, 'reg_alpha': 2.0, 'reg_lambda': 1.5}. Best is trial 15 with value: 0.8903769017980636.\n",
            "[I 2024-04-01 19:11:24,488] Trial 28 finished with value: 0.8646542185338866 and parameters: {'n_estimators': 29, 'max_depth': 19, 'learning_rate': 0.24000000000000002, 'subsample': 0.75, 'colsample_bytree': 0.30000000000000004, 'gamma': 1.9000000000000001, 'reg_alpha': 1.2000000000000002, 'reg_lambda': 3.9000000000000004}. Best is trial 15 with value: 0.8903769017980636.\n",
            "[I 2024-04-01 19:11:24,783] Trial 29 finished with value: 0.8787378976486859 and parameters: {'n_estimators': 105, 'max_depth': 25, 'learning_rate': 0.14, 'subsample': 0.5, 'colsample_bytree': 0.6000000000000001, 'gamma': 3.6, 'reg_alpha': 2.5, 'reg_lambda': 3.2}. Best is trial 15 with value: 0.8903769017980636.\n",
            "[I 2024-04-01 19:11:25,107] Trial 30 finished with value: 0.8729287690179806 and parameters: {'n_estimators': 149, 'max_depth': 20, 'learning_rate': 0.36000000000000004, 'subsample': 0.25, 'colsample_bytree': 0.4, 'gamma': 3.3000000000000003, 'reg_alpha': 0.4, 'reg_lambda': 4.5}. Best is trial 15 with value: 0.8903769017980636.\n",
            "[I 2024-04-01 19:11:25,485] Trial 31 finished with value: 0.8970262793914247 and parameters: {'n_estimators': 212, 'max_depth': 16, 'learning_rate': 0.25, 'subsample': 1.0, 'colsample_bytree': 0.4, 'gamma': 2.8000000000000003, 'reg_alpha': 0.0, 'reg_lambda': 4.2}. Best is trial 31 with value: 0.8970262793914247.\n",
            "[I 2024-04-01 19:11:26,103] Trial 32 finished with value: 0.8912171507607193 and parameters: {'n_estimators': 384, 'max_depth': 16, 'learning_rate': 0.27, 'subsample': 1.0, 'colsample_bytree': 0.35000000000000003, 'gamma': 2.7, 'reg_alpha': 0.0, 'reg_lambda': 4.0}. Best is trial 31 with value: 0.8970262793914247.\n",
            "[I 2024-04-01 19:11:26,646] Trial 33 finished with value: 0.8845816044260028 and parameters: {'n_estimators': 332, 'max_depth': 17, 'learning_rate': 0.27, 'subsample': 0.95, 'colsample_bytree': 0.35000000000000003, 'gamma': 2.9000000000000004, 'reg_alpha': 0.0, 'reg_lambda': 4.1000000000000005}. Best is trial 31 with value: 0.8970262793914247.\n",
            "[I 2024-04-01 19:11:27,251] Trial 34 finished with value: 0.8978561549100968 and parameters: {'n_estimators': 402, 'max_depth': 13, 'learning_rate': 0.21000000000000002, 'subsample': 1.0, 'colsample_bytree': 0.25, 'gamma': 2.7, 'reg_alpha': 0.30000000000000004, 'reg_lambda': 3.4000000000000004}. Best is trial 34 with value: 0.8978561549100968.\n",
            "[I 2024-04-01 19:11:27,701] Trial 35 finished with value: 0.8829045643153528 and parameters: {'n_estimators': 252, 'max_depth': 13, 'learning_rate': 0.17, 'subsample': 0.9000000000000001, 'colsample_bytree': 0.2, 'gamma': 3.4000000000000004, 'reg_alpha': 0.30000000000000004, 'reg_lambda': 3.5}. Best is trial 34 with value: 0.8978561549100968.\n",
            "[I 2024-04-01 19:11:28,248] Trial 36 finished with value: 0.874588520055325 and parameters: {'n_estimators': 366, 'max_depth': 14, 'learning_rate': 0.27, 'subsample': 1.0, 'colsample_bytree': 0.25, 'gamma': 2.7, 'reg_alpha': 4.7, 'reg_lambda': 4.7}. Best is trial 34 with value: 0.8978561549100968.\n",
            "[I 2024-04-01 19:11:28,909] Trial 37 finished with value: 0.8928803596127247 and parameters: {'n_estimators': 388, 'max_depth': 12, 'learning_rate': 0.19, 'subsample': 0.9000000000000001, 'colsample_bytree': 0.25, 'gamma': 2.0, 'reg_alpha': 0.0, 'reg_lambda': 3.3000000000000003}. Best is trial 34 with value: 0.8978561549100968.\n",
            "[I 2024-04-01 19:11:29,502] Trial 38 finished with value: 0.8862344398340248 and parameters: {'n_estimators': 396, 'max_depth': 7, 'learning_rate': 0.43, 'subsample': 0.95, 'colsample_bytree': 0.25, 'gamma': 2.0, 'reg_alpha': 0.0, 'reg_lambda': 3.7}. Best is trial 34 with value: 0.8978561549100968.\n",
            "[I 2024-04-01 19:11:30,210] Trial 39 finished with value: 0.8978561549100968 and parameters: {'n_estimators': 289, 'max_depth': 11, 'learning_rate': 0.09999999999999999, 'subsample': 0.9000000000000001, 'colsample_bytree': 0.25, 'gamma': 1.4000000000000001, 'reg_alpha': 0.30000000000000004, 'reg_lambda': 3.2}. Best is trial 34 with value: 0.8978561549100968.\n",
            "[I 2024-04-01 19:11:30,406] Trial 40 finished with value: 0.8123478561549101 and parameters: {'n_estimators': 13, 'max_depth': 11, 'learning_rate': 0.11, 'subsample': 0.9000000000000001, 'colsample_bytree': 0.2, 'gamma': 1.0, 'reg_alpha': 0.7000000000000001, 'reg_lambda': 3.2}. Best is trial 34 with value: 0.8978561549100968.\n",
            "[I 2024-04-01 19:11:30,891] Trial 41 finished with value: 0.8870677731673583 and parameters: {'n_estimators': 296, 'max_depth': 12, 'learning_rate': 0.3, 'subsample': 1.0, 'colsample_bytree': 0.30000000000000004, 'gamma': 1.3, 'reg_alpha': 0.30000000000000004, 'reg_lambda': 3.2}. Best is trial 34 with value: 0.8978561549100968.\n",
            "[I 2024-04-01 19:11:31,607] Trial 42 finished with value: 0.8895504840940525 and parameters: {'n_estimators': 380, 'max_depth': 8, 'learning_rate': 0.14, 'subsample': 0.8500000000000001, 'colsample_bytree': 0.25, 'gamma': 1.5, 'reg_alpha': 0.30000000000000004, 'reg_lambda': 2.5}. Best is trial 34 with value: 0.8978561549100968.\n",
            "[I 2024-04-01 19:11:32,393] Trial 43 finished with value: 0.8986894882434301 and parameters: {'n_estimators': 284, 'max_depth': 15, 'learning_rate': 0.06999999999999999, 'subsample': 0.9000000000000001, 'colsample_bytree': 0.35000000000000003, 'gamma': 1.7000000000000002, 'reg_alpha': 0.0, 'reg_lambda': 3.6}. Best is trial 43 with value: 0.8986894882434301.\n",
            "[I 2024-04-01 19:11:32,969] Trial 44 finished with value: 0.8953596127247578 and parameters: {'n_estimators': 195, 'max_depth': 5, 'learning_rate': 0.060000000000000005, 'subsample': 0.9000000000000001, 'colsample_bytree': 0.30000000000000004, 'gamma': 1.7000000000000002, 'reg_alpha': 0.5, 'reg_lambda': 3.6}. Best is trial 43 with value: 0.8986894882434301.\n",
            "[I 2024-04-01 19:11:33,569] Trial 45 finished with value: 0.8945366528354081 and parameters: {'n_estimators': 170, 'max_depth': 5, 'learning_rate': 0.06999999999999999, 'subsample': 0.8500000000000001, 'colsample_bytree': 0.30000000000000004, 'gamma': 0.9, 'reg_alpha': 0.5, 'reg_lambda': 3.6}. Best is trial 43 with value: 0.8986894882434301.\n",
            "[I 2024-04-01 19:11:34,583] Trial 46 finished with value: 0.8920504840940525 and parameters: {'n_estimators': 276, 'max_depth': 6, 'learning_rate': 0.02, 'subsample': 0.95, 'colsample_bytree': 0.2, 'gamma': 1.2000000000000002, 'reg_alpha': 0.7000000000000001, 'reg_lambda': 2.9000000000000004}. Best is trial 43 with value: 0.8986894882434301.\n",
            "[I 2024-04-01 19:11:35,424] Trial 47 finished with value: 0.8928734439834025 and parameters: {'n_estimators': 205, 'max_depth': 10, 'learning_rate': 0.09, 'subsample': 0.9000000000000001, 'colsample_bytree': 0.35000000000000003, 'gamma': 0.5, 'reg_alpha': 0.2, 'reg_lambda': 3.4000000000000004}. Best is trial 43 with value: 0.8986894882434301.\n",
            "[I 2024-04-01 19:11:35,942] Trial 48 finished with value: 0.8920435684647302 and parameters: {'n_estimators': 155, 'max_depth': 5, 'learning_rate': 0.05, 'subsample': 0.95, 'colsample_bytree': 0.30000000000000004, 'gamma': 1.8, 'reg_alpha': 0.9, 'reg_lambda': 4.6000000000000005}. Best is trial 43 with value: 0.8986894882434301.\n",
            "[I 2024-04-01 19:11:36,280] Trial 49 finished with value: 0.8779356846473029 and parameters: {'n_estimators': 66, 'max_depth': 9, 'learning_rate': 0.03, 'subsample': 0.8500000000000001, 'colsample_bytree': 0.25, 'gamma': 1.6, 'reg_alpha': 2.8000000000000003, 'reg_lambda': 3.0}. Best is trial 43 with value: 0.8986894882434301.\n",
            "[I 2024-04-01 19:11:36,866] Trial 50 finished with value: 0.8928734439834024 and parameters: {'n_estimators': 222, 'max_depth': 14, 'learning_rate': 0.08, 'subsample': 0.75, 'colsample_bytree': 0.4, 'gamma': 2.2, 'reg_alpha': 0.5, 'reg_lambda': 3.7}. Best is trial 43 with value: 0.8986894882434301.\n",
            "[I 2024-04-01 19:11:37,557] Trial 51 finished with value: 0.8887275242047027 and parameters: {'n_estimators': 126, 'max_depth': 4, 'learning_rate': 0.06999999999999999, 'subsample': 0.8500000000000001, 'colsample_bytree': 0.30000000000000004, 'gamma': 0.8, 'reg_alpha': 0.4, 'reg_lambda': 3.7}. Best is trial 43 with value: 0.8986894882434301.\n",
            "[I 2024-04-01 19:11:38,200] Trial 52 finished with value: 0.8754322268326418 and parameters: {'n_estimators': 167, 'max_depth': 5, 'learning_rate': 0.11, 'subsample': 0.8500000000000001, 'colsample_bytree': 0.35000000000000003, 'gamma': 0.2, 'reg_alpha': 5.0, 'reg_lambda': 3.6}. Best is trial 43 with value: 0.8986894882434301.\n",
            "[I 2024-04-01 19:11:39,195] Trial 53 finished with value: 0.8928769017980637 and parameters: {'n_estimators': 278, 'max_depth': 8, 'learning_rate': 0.060000000000000005, 'subsample': 0.9000000000000001, 'colsample_bytree': 0.2, 'gamma': 0.9, 'reg_alpha': 0.2, 'reg_lambda': 3.9000000000000004}. Best is trial 43 with value: 0.8986894882434301.\n",
            "[I 2024-04-01 19:11:39,825] Trial 54 finished with value: 0.880411479944675 and parameters: {'n_estimators': 170, 'max_depth': 10, 'learning_rate': 0.04, 'subsample': 0.95, 'colsample_bytree': 0.30000000000000004, 'gamma': 1.1, 'reg_alpha': 3.9000000000000004, 'reg_lambda': 2.6}. Best is trial 43 with value: 0.8986894882434301.\n",
            "[I 2024-04-01 19:11:40,566] Trial 55 finished with value: 0.8937136929460581 and parameters: {'n_estimators': 248, 'max_depth': 18, 'learning_rate': 0.11, 'subsample': 1.0, 'colsample_bytree': 0.4, 'gamma': 0.5, 'reg_alpha': 1.4000000000000001, 'reg_lambda': 2.3000000000000003}. Best is trial 43 with value: 0.8986894882434301.\n",
            "[I 2024-04-01 19:11:41,491] Trial 56 finished with value: 0.8970193637621022 and parameters: {'n_estimators': 323, 'max_depth': 14, 'learning_rate': 0.09, 'subsample': 0.9000000000000001, 'colsample_bytree': 0.25, 'gamma': 1.4000000000000001, 'reg_alpha': 0.8, 'reg_lambda': 3.4000000000000004}. Best is trial 43 with value: 0.8986894882434301.\n",
            "[I 2024-04-01 19:11:43,333] Trial 57 finished with value: 0.8912171507607193 and parameters: {'n_estimators': 434, 'max_depth': 15, 'learning_rate': 0.01, 'subsample': 0.9000000000000001, 'colsample_bytree': 0.25, 'gamma': 1.4000000000000001, 'reg_alpha': 0.8, 'reg_lambda': 3.0}. Best is trial 43 with value: 0.8986894882434301.\n",
            "[I 2024-04-01 19:11:44,047] Trial 58 finished with value: 0.892040110650069 and parameters: {'n_estimators': 318, 'max_depth': 12, 'learning_rate': 0.09, 'subsample': 0.65, 'colsample_bytree': 0.2, 'gamma': 1.7000000000000002, 'reg_alpha': 0.2, 'reg_lambda': 3.3000000000000003}. Best is trial 43 with value: 0.8986894882434301.\n",
            "[I 2024-04-01 19:11:44,747] Trial 59 finished with value: 0.8779080221300137 and parameters: {'n_estimators': 484, 'max_depth': 14, 'learning_rate': 0.17, 'subsample': 0.95, 'colsample_bytree': 0.5, 'gamma': 5.0, 'reg_alpha': 1.0, 'reg_lambda': 4.4}. Best is trial 43 with value: 0.8986894882434301.\n",
            "[I 2024-04-01 19:11:45,176] Trial 60 finished with value: 0.8853907330567081 and parameters: {'n_estimators': 218, 'max_depth': 17, 'learning_rate': 0.12, 'subsample': 1.0, 'colsample_bytree': 0.4, 'gamma': 3.1, 'reg_alpha': 0.7000000000000001, 'reg_lambda': 2.8000000000000003}. Best is trial 43 with value: 0.8986894882434301.\n",
            "[I 2024-04-01 19:11:45,961] Trial 61 finished with value: 0.8986825726141078 and parameters: {'n_estimators': 270, 'max_depth': 4, 'learning_rate': 0.060000000000000005, 'subsample': 0.8500000000000001, 'colsample_bytree': 0.30000000000000004, 'gamma': 0.7000000000000001, 'reg_alpha': 0.4, 'reg_lambda': 3.5}. Best is trial 43 with value: 0.8986894882434301.\n",
            "[I 2024-04-01 19:11:47,098] Trial 62 finished with value: 0.8920435684647302 and parameters: {'n_estimators': 263, 'max_depth': 31, 'learning_rate': 0.05, 'subsample': 0.8, 'colsample_bytree': 0.35000000000000003, 'gamma': 0.7000000000000001, 'reg_alpha': 0.4, 'reg_lambda': 4.1000000000000005}. Best is trial 43 with value: 0.8986894882434301.\n",
            "[I 2024-04-01 19:11:47,758] Trial 63 finished with value: 0.8986825726141078 and parameters: {'n_estimators': 331, 'max_depth': 3, 'learning_rate': 0.09, 'subsample': 0.95, 'colsample_bytree': 0.25, 'gamma': 1.3, 'reg_alpha': 0.1, 'reg_lambda': 3.8000000000000003}. Best is trial 43 with value: 0.8986894882434301.\n",
            "[I 2024-04-01 19:11:48,589] Trial 64 finished with value: 0.8995089903181188 and parameters: {'n_estimators': 334, 'max_depth': 15, 'learning_rate': 0.09, 'subsample': 1.0, 'colsample_bytree': 0.25, 'gamma': 1.3, 'reg_alpha': 0.1, 'reg_lambda': 3.4000000000000004}. Best is trial 64 with value: 0.8995089903181188.\n",
            "[I 2024-04-01 19:11:49,255] Trial 65 finished with value: 0.895363070539419 and parameters: {'n_estimators': 429, 'max_depth': 3, 'learning_rate': 0.13, 'subsample': 1.0, 'colsample_bytree': 0.25, 'gamma': 1.2000000000000002, 'reg_alpha': 0.1, 'reg_lambda': 3.9000000000000004}. Best is trial 64 with value: 0.8995089903181188.\n",
            "[I 2024-04-01 19:11:49,979] Trial 66 finished with value: 0.8920504840940525 and parameters: {'n_estimators': 348, 'max_depth': 18, 'learning_rate': 0.15000000000000002, 'subsample': 0.95, 'colsample_bytree': 0.35000000000000003, 'gamma': 0.7000000000000001, 'reg_alpha': 0.1, 'reg_lambda': 0.7000000000000001}. Best is trial 64 with value: 0.8995089903181188.\n",
            "[I 2024-04-01 19:11:50,448] Trial 67 finished with value: 0.8970228215767634 and parameters: {'n_estimators': 290, 'max_depth': 15, 'learning_rate': 0.19, 'subsample': 1.0, 'colsample_bytree': 0.2, 'gamma': 2.5, 'reg_alpha': 0.2, 'reg_lambda': 4.3}. Best is trial 64 with value: 0.8995089903181188.\n",
            "[I 2024-04-01 19:11:52,321] Trial 68 finished with value: 0.8945470262793915 and parameters: {'n_estimators': 493, 'max_depth': 20, 'learning_rate': 0.16, 'subsample': 0.95, 'colsample_bytree': 0.25, 'gamma': 0.0, 'reg_alpha': 0.0, 'reg_lambda': 3.1}. Best is trial 64 with value: 0.8995089903181188.\n",
            "[I 2024-04-01 19:11:54,155] Trial 69 finished with value: 0.8912067773167358 and parameters: {'n_estimators': 240, 'max_depth': 11, 'learning_rate': 0.03, 'subsample': 0.75, 'colsample_bytree': 0.45, 'gamma': 0.30000000000000004, 'reg_alpha': 0.6000000000000001, 'reg_lambda': 3.8000000000000003}. Best is trial 64 with value: 0.8995089903181188.\n",
            "[I 2024-04-01 19:11:54,957] Trial 70 finished with value: 0.8729426002766252 and parameters: {'n_estimators': 406, 'max_depth': 3, 'learning_rate': 0.22, 'subsample': 0.30000000000000004, 'colsample_bytree': 0.95, 'gamma': 3.6, 'reg_alpha': 0.30000000000000004, 'reg_lambda': 3.4000000000000004}. Best is trial 64 with value: 0.8995089903181188.\n",
            "[I 2024-04-01 19:11:55,447] Trial 71 finished with value: 0.8953596127247578 and parameters: {'n_estimators': 292, 'max_depth': 15, 'learning_rate': 0.2, 'subsample': 1.0, 'colsample_bytree': 0.2, 'gamma': 2.5, 'reg_alpha': 0.2, 'reg_lambda': 4.3}. Best is trial 64 with value: 0.8995089903181188.\n",
            "[I 2024-04-01 19:11:55,956] Trial 72 finished with value: 0.8870608575380359 and parameters: {'n_estimators': 350, 'max_depth': 16, 'learning_rate': 0.25, 'subsample': 1.0, 'colsample_bytree': 0.2, 'gamma': 2.9000000000000004, 'reg_alpha': 0.4, 'reg_lambda': 4.800000000000001}. Best is trial 64 with value: 0.8995089903181188.\n",
            "[I 2024-04-01 19:11:56,548] Trial 73 finished with value: 0.8895504840940525 and parameters: {'n_estimators': 313, 'max_depth': 17, 'learning_rate': 0.09999999999999999, 'subsample': 1.0, 'colsample_bytree': 0.30000000000000004, 'gamma': 3.2, 'reg_alpha': 0.1, 'reg_lambda': 4.1000000000000005}. Best is trial 64 with value: 0.8995089903181188.\n",
            "[I 2024-04-01 19:11:56,987] Trial 74 finished with value: 0.8945331950207468 and parameters: {'n_estimators': 219, 'max_depth': 13, 'learning_rate': 0.23, 'subsample': 0.95, 'colsample_bytree': 0.25, 'gamma': 2.2, 'reg_alpha': 0.0, 'reg_lambda': 4.2}. Best is trial 64 with value: 0.8995089903181188.\n",
            "[I 2024-04-01 19:11:57,455] Trial 75 finished with value: 0.8837517289073306 and parameters: {'n_estimators': 264, 'max_depth': 15, 'learning_rate': 0.19, 'subsample': 0.95, 'colsample_bytree': 0.2, 'gamma': 2.5, 'reg_alpha': 0.30000000000000004, 'reg_lambda': 3.8000000000000003}. Best is trial 64 with value: 0.8995089903181188.\n",
            "[I 2024-04-01 19:11:58,375] Trial 76 finished with value: 0.8903872752420471 and parameters: {'n_estimators': 435, 'max_depth': 13, 'learning_rate': 0.06999999999999999, 'subsample': 1.0, 'colsample_bytree': 0.30000000000000004, 'gamma': 1.5, 'reg_alpha': 0.5, 'reg_lambda': 4.0}. Best is trial 64 with value: 0.8995089903181188.\n",
            "[I 2024-04-01 19:11:59,279] Trial 77 finished with value: 0.8928769017980637 and parameters: {'n_estimators': 348, 'max_depth': 19, 'learning_rate': 0.13, 'subsample': 0.95, 'colsample_bytree': 0.35000000000000003, 'gamma': 1.1, 'reg_alpha': 0.2, 'reg_lambda': 4.5}. Best is trial 64 with value: 0.8995089903181188.\n",
            "[I 2024-04-01 19:11:59,825] Trial 78 finished with value: 0.8837448132780082 and parameters: {'n_estimators': 292, 'max_depth': 11, 'learning_rate': 0.26, 'subsample': 0.9000000000000001, 'colsample_bytree': 0.25, 'gamma': 1.9000000000000001, 'reg_alpha': 0.6000000000000001, 'reg_lambda': 4.3}. Best is trial 64 with value: 0.8995089903181188.\n",
            "[I 2024-04-01 19:12:00,524] Trial 79 finished with value: 0.8961964038727525 and parameters: {'n_estimators': 238, 'max_depth': 7, 'learning_rate': 0.08, 'subsample': 1.0, 'colsample_bytree': 0.2, 'gamma': 1.3, 'reg_alpha': 0.1, 'reg_lambda': 3.1}. Best is trial 64 with value: 0.8995089903181188.\n",
            "[I 2024-04-01 19:12:00,736] Trial 80 finished with value: 0.8231396957123099 and parameters: {'n_estimators': 16, 'max_depth': 16, 'learning_rate': 0.18000000000000002, 'subsample': 0.8500000000000001, 'colsample_bytree': 0.30000000000000004, 'gamma': 2.1, 'reg_alpha': 0.4, 'reg_lambda': 3.5}. Best is trial 64 with value: 0.8995089903181188.\n",
            "[I 2024-04-01 19:12:01,545] Trial 81 finished with value: 0.8978561549100968 and parameters: {'n_estimators': 311, 'max_depth': 12, 'learning_rate': 0.09999999999999999, 'subsample': 0.9000000000000001, 'colsample_bytree': 0.25, 'gamma': 1.1, 'reg_alpha': 0.8, 'reg_lambda': 3.4000000000000004}. Best is trial 64 with value: 0.8995089903181188.\n",
            "[I 2024-04-01 19:12:02,425] Trial 82 finished with value: 0.8937171507607193 and parameters: {'n_estimators': 371, 'max_depth': 12, 'learning_rate': 0.13, 'subsample': 0.9000000000000001, 'colsample_bytree': 0.25, 'gamma': 1.0, 'reg_alpha': 0.0, 'reg_lambda': 3.3000000000000003}. Best is trial 64 with value: 0.8995089903181188.\n",
            "[I 2024-04-01 19:12:03,309] Trial 83 finished with value: 0.8903665283540801 and parameters: {'n_estimators': 305, 'max_depth': 9, 'learning_rate': 0.04, 'subsample': 0.95, 'colsample_bytree': 0.25, 'gamma': 2.7, 'reg_alpha': 0.9, 'reg_lambda': 3.7}. Best is trial 64 with value: 0.8995089903181188.\n",
            "[I 2024-04-01 19:12:03,619] Trial 84 finished with value: 0.8505325034578147 and parameters: {'n_estimators': 31, 'max_depth': 14, 'learning_rate': 0.08, 'subsample': 1.0, 'colsample_bytree': 0.30000000000000004, 'gamma': 0.6000000000000001, 'reg_alpha': 0.7000000000000001, 'reg_lambda': 3.5}. Best is trial 64 with value: 0.8995089903181188.\n",
            "[I 2024-04-01 19:12:04,327] Trial 85 finished with value: 0.8820850622406639 and parameters: {'n_estimators': 404, 'max_depth': 15, 'learning_rate': 0.29000000000000004, 'subsample': 0.55, 'colsample_bytree': 0.2, 'gamma': 1.1, 'reg_alpha': 1.1, 'reg_lambda': 4.0}. Best is trial 64 with value: 0.8995089903181188.\n",
            "[I 2024-04-01 19:12:05,000] Trial 86 finished with value: 0.9003423236514523 and parameters: {'n_estimators': 260, 'max_depth': 13, 'learning_rate': 0.09999999999999999, 'subsample': 0.9000000000000001, 'colsample_bytree': 0.35000000000000003, 'gamma': 1.5, 'reg_alpha': 0.30000000000000004, 'reg_lambda': 3.1}. Best is trial 86 with value: 0.9003423236514523.\n",
            "[I 2024-04-01 19:12:05,758] Trial 87 finished with value: 0.8995159059474412 and parameters: {'n_estimators': 341, 'max_depth': 10, 'learning_rate': 0.09999999999999999, 'subsample': 0.8500000000000001, 'colsample_bytree': 0.4, 'gamma': 1.6, 'reg_alpha': 0.30000000000000004, 'reg_lambda': 2.8000000000000003}. Best is trial 86 with value: 0.9003423236514523.\n",
            "[I 2024-04-01 19:12:06,347] Trial 88 finished with value: 0.8953596127247578 and parameters: {'n_estimators': 188, 'max_depth': 8, 'learning_rate': 0.09999999999999999, 'subsample': 0.8, 'colsample_bytree': 0.35000000000000003, 'gamma': 1.3, 'reg_alpha': 0.5, 'reg_lambda': 2.8000000000000003}. Best is trial 86 with value: 0.9003423236514523.\n",
            "[I 2024-04-01 19:12:07,044] Trial 89 finished with value: 0.8961964038727525 and parameters: {'n_estimators': 259, 'max_depth': 4, 'learning_rate': 0.060000000000000005, 'subsample': 0.8500000000000001, 'colsample_bytree': 0.4, 'gamma': 1.6, 'reg_alpha': 0.30000000000000004, 'reg_lambda': 2.6}. Best is trial 86 with value: 0.9003423236514523.\n",
            "[I 2024-04-01 19:12:07,715] Trial 90 finished with value: 0.8936964038727524 and parameters: {'n_estimators': 332, 'max_depth': 9, 'learning_rate': 0.12, 'subsample': 0.8, 'colsample_bytree': 0.35000000000000003, 'gamma': 1.8, 'reg_alpha': 0.6000000000000001, 'reg_lambda': 2.9000000000000004}. Best is trial 86 with value: 0.9003423236514523.\n",
            "[I 2024-04-01 19:12:08,271] Trial 91 finished with value: 0.8862206085753803 and parameters: {'n_estimators': 210, 'max_depth': 12, 'learning_rate': 0.09999999999999999, 'subsample': 0.9000000000000001, 'colsample_bytree': 0.5, 'gamma': 1.5, 'reg_alpha': 2.2, 'reg_lambda': 3.1}. Best is trial 86 with value: 0.9003423236514523.\n",
            "[I 2024-04-01 19:12:09,172] Trial 92 finished with value: 0.8829011065006915 and parameters: {'n_estimators': 368, 'max_depth': 11, 'learning_rate': 0.08, 'subsample': 0.9000000000000001, 'colsample_bytree': 0.30000000000000004, 'gamma': 0.9, 'reg_alpha': 2.7, 'reg_lambda': 3.3000000000000003}. Best is trial 86 with value: 0.9003423236514523.\n",
            "[I 2024-04-01 19:12:10,183] Trial 93 finished with value: 0.8970297372060857 and parameters: {'n_estimators': 457, 'max_depth': 10, 'learning_rate': 0.15000000000000002, 'subsample': 0.95, 'colsample_bytree': 0.45, 'gamma': 1.3, 'reg_alpha': 0.4, 'reg_lambda': 3.2}. Best is trial 86 with value: 0.9003423236514523.\n",
            "[I 2024-04-01 19:12:11,009] Trial 94 finished with value: 0.8978423236514523 and parameters: {'n_estimators': 448, 'max_depth': 10, 'learning_rate': 0.15000000000000002, 'subsample': 0.8500000000000001, 'colsample_bytree': 0.55, 'gamma': 1.2000000000000002, 'reg_alpha': 0.4, 'reg_lambda': 2.9000000000000004}. Best is trial 86 with value: 0.9003423236514523.\n",
            "[I 2024-04-01 19:12:12,221] Trial 95 finished with value: 0.8945297372060856 and parameters: {'n_estimators': 402, 'max_depth': 6, 'learning_rate': 0.05, 'subsample': 0.8, 'colsample_bytree': 0.7, 'gamma': 0.8, 'reg_alpha': 0.8, 'reg_lambda': 2.9000000000000004}. Best is trial 86 with value: 0.9003423236514523.\n",
            "[I 2024-04-01 19:12:12,870] Trial 96 finished with value: 0.8937102351313969 and parameters: {'n_estimators': 333, 'max_depth': 4, 'learning_rate': 0.12, 'subsample': 0.8500000000000001, 'colsample_bytree': 0.30000000000000004, 'gamma': 1.4000000000000001, 'reg_alpha': 0.30000000000000004, 'reg_lambda': 2.2}. Best is trial 86 with value: 0.9003423236514523.\n",
            "[I 2024-04-01 19:12:13,702] Trial 97 finished with value: 0.8770919778699862 and parameters: {'n_estimators': 461, 'max_depth': 13, 'learning_rate': 0.09999999999999999, 'subsample': 0.7, 'colsample_bytree': 0.25, 'gamma': 1.2000000000000002, 'reg_alpha': 3.4000000000000004, 'reg_lambda': 2.6}. Best is trial 86 with value: 0.9003423236514523.\n",
            "[I 2024-04-01 19:12:14,254] Trial 98 finished with value: 0.8862206085753803 and parameters: {'n_estimators': 271, 'max_depth': 11, 'learning_rate': 0.14, 'subsample': 0.8500000000000001, 'colsample_bytree': 0.55, 'gamma': 1.6, 'reg_alpha': 1.8, 'reg_lambda': 2.7}. Best is trial 86 with value: 0.9003423236514523.\n",
            "[I 2024-04-01 19:12:15,071] Trial 99 finished with value: 0.8936964038727524 and parameters: {'n_estimators': 310, 'max_depth': 10, 'learning_rate': 0.06999999999999999, 'subsample': 0.75, 'colsample_bytree': 0.6000000000000001, 'gamma': 1.8, 'reg_alpha': 0.1, 'reg_lambda': 3.4000000000000004}. Best is trial 86 with value: 0.9003423236514523.\n"
          ]
        },
        {
          "data": {
            "text/plain": [
              "(0.9003423236514523,\n",
              " {'n_estimators': 260,\n",
              "  'max_depth': 13,\n",
              "  'learning_rate': 0.09999999999999999,\n",
              "  'subsample': 0.9000000000000001,\n",
              "  'colsample_bytree': 0.35000000000000003,\n",
              "  'gamma': 1.5,\n",
              "  'reg_alpha': 0.30000000000000004,\n",
              "  'reg_lambda': 3.1})"
            ]
          },
          "execution_count": 83,
          "metadata": {},
          "output_type": "execute_result"
        }
      ],
      "source": [
        "xgb_model.finetune()"
      ]
    },
    {
      "cell_type": "code",
      "execution_count": 84,
      "metadata": {},
      "outputs": [
        {
          "data": {
            "text/plain": [
              "{'accuracy': 0.805,\n",
              " 'precision': 0.6136363636363636,\n",
              " 'recall': 0.5510204081632653,\n",
              " 'f1_score': 0.5806451612903225}"
            ]
          },
          "execution_count": 84,
          "metadata": {},
          "output_type": "execute_result"
        }
      ],
      "source": [
        "xgb_model.train_predict()\n",
        "\n",
        "xgb_model.evaluate()"
      ]
    },
    {
      "cell_type": "code",
      "execution_count": 85,
      "metadata": {},
      "outputs": [
        {
          "data": {
            "image/png": "[encoded data removed]",
            "text/plain": [
              "<Figure size 800x600 with 1 Axes>"
            ]
          },
          "metadata": {},
          "output_type": "display_data"
        }
      ],
      "source": [
        "cm_xgb_tuned = xgb_model.plot_confusion_matrix()"
      ]
    }
  ],
  "metadata": {
    "colab": {
      "provenance": []
    },
    "kernelspec": {
      "display_name": "Python 3",
      "name": "python3"
    },
    "language_info": {
      "codemirror_mode": {
        "name": "ipython",
        "version": 3
      },
      "file_extension": ".py",
      "mimetype": "text/x-python",
      "name": "python",
      "nbconvert_exporter": "python",
      "pygments_lexer": "ipython3",
      "version": "3.9.19"
    }
  },
  "nbformat": 4,
  "nbformat_minor": 0
}
